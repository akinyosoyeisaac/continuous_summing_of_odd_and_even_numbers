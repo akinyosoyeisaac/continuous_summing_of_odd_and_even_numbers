{
  "nbformat": 4,
  "nbformat_minor": 0,
  "metadata": {
    "colab": {
      "name": "Copy of AWC VS DD.ipynb",
      "provenance": [],
      "collapsed_sections": [],
      "authorship_tag": "ABX9TyOyRHctwSWRveW48R+OI2SG",
      "include_colab_link": true
    },
    "kernelspec": {
      "name": "python3",
      "display_name": "Python 3"
    }
  },
  "cells": [
    {
      "cell_type": "markdown",
      "metadata": {
        "id": "view-in-github",
        "colab_type": "text"
      },
      "source": [
        "<a href=\"https://colab.research.google.com/github/akinyosoyeisaac/continuous_summing_of_odd_and_even_numbers/blob/main/Copy_of_AWC_VS_DD.ipynb\" target=\"_parent\"><img src=\"https://colab.research.google.com/assets/colab-badge.svg\" alt=\"Open In Colab\"/></a>"
      ]
    },
    {
      "cell_type": "code",
      "metadata": {
        "id": "4ieVfykv0fZF"
      },
      "source": [
        "import numpy as np\n",
        "import pandas as pd\n",
        "import seaborn as sns\n",
        "from matplotlib import pyplot as plt\n",
        "from scipy.ndimage.filters import gaussian_filter1d"
      ],
      "execution_count": null,
      "outputs": []
    },
    {
      "cell_type": "code",
      "metadata": {
        "colab": {
          "base_uri": "https://localhost:8080/"
        },
        "id": "KQLPjNb-NAgw",
        "outputId": "64a4ee75-5551-4673-9d05-ca9027af3a5d"
      },
      "source": [
        "from google.colab import drive\n",
        "drive.mount('/content/gdrive')"
      ],
      "execution_count": null,
      "outputs": [
        {
          "output_type": "stream",
          "text": [
            "Mounted at /content/gdrive\n"
          ],
          "name": "stdout"
        }
      ]
    },
    {
      "cell_type": "code",
      "metadata": {
        "colab": {
          "base_uri": "https://localhost:8080/"
        },
        "id": "YGPuNTyPNBgT",
        "outputId": "4b0f2c57-b4fa-4db0-a582-1d6a8d349bcb"
      },
      "source": [
        "%cd /content/gdrive/My Drive"
      ],
      "execution_count": null,
      "outputs": [
        {
          "output_type": "stream",
          "text": [
            "/content/gdrive/My Drive\n"
          ],
          "name": "stdout"
        }
      ]
    },
    {
      "cell_type": "code",
      "metadata": {
        "id": "AG4-uqvCzB18"
      },
      "source": [
        "AWC = np.array([4.4, 6.0, 7.2, 9.1, 10.2, 14.6])\n",
        "DD = np.array([1.75, 1.75, 1.77, 1.78, 1.75, 1.67 ])"
      ],
      "execution_count": null,
      "outputs": []
    },
    {
      "cell_type": "code",
      "metadata": {
        "colab": {
          "base_uri": "https://localhost:8080/",
          "height": 209
        },
        "id": "VB35A7GX2T_U",
        "outputId": "aa4514f0-e782-40b2-ee41-a404d2f0afd9"
      },
      "source": [
        "AWC_new = np.linspace(AWC.min(), AWC.max(), 100) \n",
        "spl = make_interp_spline(AWC, DD, k = 2)\n",
        "value_AWC_smooth = spl(AWC_new)\n",
        " \n",
        " \n",
        "fig = plt.figure()\n",
        "ax = fig.add_subplot(1, 1, 1)\n",
        " \n",
        " \n",
        "major_ticks_y = np.arange(1.6, 1.8, 0.1)\n",
        "minor_ticks_y = np.arange(1.6, 1.8, 0.01)\n",
        "major_ticks_x = np.arange(4, 15, 1)\n",
        "minor_ticks_x = np.arange(4, 15, 0.1)\n",
        " \n",
        "# plt.subplots(figsize = (15, 15))\n",
        "ax.plot(AWC_new, value_AWC_smooth, linewidth = 4, c = 'r')\n",
        "ax.plot(AWC, DD, marker = 'o', linewidth = 0, c = 'b')\n",
        "ax.axvline(x = 8.5, color='r', linestyle='-')\n",
        "ax.axhline(y = 1.785, color='r', linestyle='-')\n",
        " \n",
        "ax.set_title('A graph of Average moisture content(%) vs density(g/cc) ')\n",
        "ax.set_xlabel('Average moisture content(%)')\n",
        "ax.set_ylabel('density(g/cc)')\n",
        " \n",
        "ax.set_xticks(major_ticks_x)\n",
        "ax.set_xticks(minor_ticks_x, minor=True)\n",
        "ax.set_yticks(major_ticks_y)\n",
        "ax.set_yticks(minor_ticks_y, minor=True)\n",
        "ax.set_ylim([1.6, 1.8])\n",
        "ax.set_xlim([4, 15]) \n",
        " \n",
        " \n",
        "plt.grid(which = 'both')\n",
        "plt.grid(which = 'minor', alpha = 0.5)\n",
        "plt.grid(which = 'major', alpha = 1)\n",
        "fig.savefig('graph_of_AWC_DD.png')\n",
        "plt.show()"
      ],
      "execution_count": null,
      "outputs": [
        {
          "output_type": "display_data",
          "data": {
            "image/png": "[encoded data removed]",
            "text/plain": [
              "<Figure size 432x288 with 1 Axes>"
            ]
          },
          "metadata": {
            "tags": [],
            "needs_background": "light"
          }
        }
      ]
    },
    {
      "cell_type": "code",
      "metadata": {
        "colab": {
          "base_uri": "https://localhost:8080/"
        },
        "id": "juU5fGX5Pkml",
        "outputId": "f03f0f7e-3648-4fce-c699-66be1360d50d"
      },
      "source": [
        "y = np.interp(8.5, AWC,DD)"
      ],
      "execution_count": null,
      "outputs": [
        {
          "output_type": "execute_result",
          "data": {
            "text/plain": [
              "1.776842105263158"
            ]
          },
          "metadata": {
            "tags": []
          },
          "execution_count": 101
        }
      ]
    },
    {
      "cell_type": "code",
      "metadata": {
        "colab": {
          "base_uri": "https://localhost:8080/"
        },
        "id": "aSLUj6p0VHSh",
        "outputId": "8cf685ef-3ef6-40d0-942a-2ba6e15871bd"
      },
      "source": [
        "slope, intercept = np.polyfit(AWC, DD, 1)\n",
        "print(slope)\n",
        "print(intercept)"
      ],
      "execution_count": null,
      "outputs": [
        {
          "output_type": "stream",
          "text": [
            "-0.007572696350477133\n",
            "1.809998977008262\n"
          ],
          "name": "stdout"
        }
      ]
    }
  ]
}